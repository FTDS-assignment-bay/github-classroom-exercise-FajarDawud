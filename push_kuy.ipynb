{
 "cells": [
  {
   "cell_type": "markdown",
   "metadata": {},
   "source": [
    "1. `git clone <link ssh>` assignment\n",
    "2. `cd` ke repo di local device kalian\n",
    "3. Buat file tugas atau copas dari folder sebelum repo terbentuk\n",
    "4. `git status` untuk cek file terbaru tsb -> harusnya file warna merah\n",
    "5. `git add .` untuk masukan seluruh file di repo lokal ke stage mode\n",
    "6. `git status` sekarang file yg tadinya warna merah harusnya warna hijau\n",
    "7. `git commit -m \"final_push\"` untuk commit tugas dan memberikan message (-m)\n",
    "8. `git push` untuk push ke github kalian\n",
    "9. make sure di github kalian file baru sudah terupload.\n",
    "10. `get checkout <no version>` untuk cek versi di repo lokal dan repo github"
   ]
  }
 ],
 "metadata": {
  "language_info": {
   "name": "python"
  }
 },
 "nbformat": 4,
 "nbformat_minor": 2
}
